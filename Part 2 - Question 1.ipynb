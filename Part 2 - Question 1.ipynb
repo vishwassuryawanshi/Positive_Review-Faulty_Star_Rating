{
 "cells": [
  {
   "cell_type": "markdown",
   "id": "fe1c3c88",
   "metadata": {},
   "source": [
    "# Install and Import Dependencies :"
   ]
  },
  {
   "cell_type": "code",
   "execution_count": null,
   "id": "5a99acba",
   "metadata": {
    "ExecuteTime": {
     "end_time": "2022-03-22T10:47:12.294934Z",
     "start_time": "2022-03-22T10:27:50.582556Z"
    },
    "scrolled": true
   },
   "outputs": [],
   "source": [
    "!pip3 install torch==1.8.2+cu111 torchvision==0.9.2+cu111 torchaudio===0.8.2 -f https://download.pytorch.org/whl/lts/1.8/torch_lts.html   "
   ]
  },
  {
   "cell_type": "code",
   "execution_count": null,
   "id": "eb941e04",
   "metadata": {
    "ExecuteTime": {
     "end_time": "2022-03-22T06:58:12.497581Z",
     "start_time": "2022-03-22T06:57:56.141988Z"
    }
   },
   "outputs": [],
   "source": [
    "!pip install git+https://github.com/PrithivirajDamodaran/Gramformer.git"
   ]
  },
  {
   "cell_type": "code",
   "execution_count": 4,
   "id": "3a17f3ac",
   "metadata": {
    "ExecuteTime": {
     "end_time": "2022-03-22T10:55:30.606337Z",
     "start_time": "2022-03-22T10:55:29.002642Z"
    }
   },
   "outputs": [],
   "source": [
    "from gramformer import Gramformer"
   ]
  },
  {
   "cell_type": "markdown",
   "id": "24352fa1",
   "metadata": {},
   "source": [
    "# Instantiate Gramformer :"
   ]
  },
  {
   "cell_type": "code",
   "execution_count": 5,
   "id": "a7bc7c39",
   "metadata": {
    "ExecuteTime": {
     "end_time": "2022-03-22T10:56:08.773649Z",
     "start_time": "2022-03-22T10:55:30.654898Z"
    }
   },
   "outputs": [],
   "source": [
    "gf = Gramformer(models=3, use_gpu=True) # 0 = detector, 1 = highlighter, 2 = corrector, 3 = all"
   ]
  },
  {
   "cell_type": "markdown",
   "id": "d51ce421",
   "metadata": {},
   "source": [
    "# Run Correction : "
   ]
  },
  {
   "cell_type": "code",
   "execution_count": 7,
   "id": "9925789c",
   "metadata": {
    "ExecuteTime": {
     "end_time": "2022-03-22T10:57:07.726561Z",
     "start_time": "2022-03-22T10:57:07.300581Z"
    }
   },
   "outputs": [
    {
     "data": {
      "text/html": [
       "<div>\n",
       "<style scoped>\n",
       "    .dataframe tbody tr th:only-of-type {\n",
       "        vertical-align: middle;\n",
       "    }\n",
       "\n",
       "    .dataframe tbody tr th {\n",
       "        vertical-align: top;\n",
       "    }\n",
       "\n",
       "    .dataframe thead th {\n",
       "        text-align: right;\n",
       "    }\n",
       "</style>\n",
       "<table border=\"1\" class=\"dataframe\">\n",
       "  <thead>\n",
       "    <tr style=\"text-align: right;\">\n",
       "      <th></th>\n",
       "      <th>text</th>\n",
       "      <th>star</th>\n",
       "      <th>app_id</th>\n",
       "      <th>reviewDate</th>\n",
       "    </tr>\n",
       "  </thead>\n",
       "  <tbody>\n",
       "    <tr>\n",
       "      <th>0</th>\n",
       "      <td>Anathi Khanyile</td>\n",
       "      <td>5</td>\n",
       "      <td>com.fingersoft.hillclimb</td>\n",
       "      <td>18/03/21</td>\n",
       "    </tr>\n",
       "    <tr>\n",
       "      <th>1</th>\n",
       "      <td>Tony bahut funny hai Hill climbing racing my f...</td>\n",
       "      <td>5</td>\n",
       "      <td>com.fingersoft.hillclimb</td>\n",
       "      <td>18/03/21</td>\n",
       "    </tr>\n",
       "    <tr>\n",
       "      <th>2</th>\n",
       "      <td>Teturwu</td>\n",
       "      <td>1</td>\n",
       "      <td>com.fingersoft.hillclimb</td>\n",
       "      <td>18/03/21</td>\n",
       "    </tr>\n",
       "    <tr>\n",
       "      <th>3</th>\n",
       "      <td>Hoooooooooooyaaaaaaaaa what a game hoooooooooo...</td>\n",
       "      <td>5</td>\n",
       "      <td>com.fingersoft.hillclimb</td>\n",
       "      <td>18/03/21</td>\n",
       "    </tr>\n",
       "    <tr>\n",
       "      <th>4</th>\n",
       "      <td>This game is nice</td>\n",
       "      <td>5</td>\n",
       "      <td>com.fingersoft.hillclimb</td>\n",
       "      <td>18/03/21</td>\n",
       "    </tr>\n",
       "  </tbody>\n",
       "</table>\n",
       "</div>"
      ],
      "text/plain": [
       "                                                text  star  \\\n",
       "0                                    Anathi Khanyile     5   \n",
       "1  Tony bahut funny hai Hill climbing racing my f...     5   \n",
       "2                                            Teturwu     1   \n",
       "3  Hoooooooooooyaaaaaaaaa what a game hoooooooooo...     5   \n",
       "4                                  This game is nice     5   \n",
       "\n",
       "                     app_id reviewDate  \n",
       "0  com.fingersoft.hillclimb   18/03/21  \n",
       "1  com.fingersoft.hillclimb   18/03/21  \n",
       "2  com.fingersoft.hillclimb   18/03/21  \n",
       "3  com.fingersoft.hillclimb   18/03/21  \n",
       "4  com.fingersoft.hillclimb   18/03/21  "
      ]
     },
     "execution_count": 7,
     "metadata": {},
     "output_type": "execute_result"
    }
   ],
   "source": [
    "import pandas as pd\n",
    "\n",
    "df = pd.read_csv(\"review_data.csv\")\n",
    "df.head()"
   ]
  },
  {
   "cell_type": "markdown",
   "id": "3d0da330",
   "metadata": {},
   "source": [
    "# Putting together with Gradio :"
   ]
  },
  {
   "cell_type": "code",
   "execution_count": null,
   "id": "f71addf1",
   "metadata": {
    "ExecuteTime": {
     "end_time": "2022-03-22T11:00:49.804553Z",
     "start_time": "2022-03-22T10:59:21.156641Z"
    }
   },
   "outputs": [],
   "source": [
    "!pip install gradio"
   ]
  },
  {
   "cell_type": "code",
   "execution_count": 9,
   "id": "bd7c7bd4",
   "metadata": {
    "ExecuteTime": {
     "end_time": "2022-03-22T11:01:17.003529Z",
     "start_time": "2022-03-22T11:01:01.840339Z"
    }
   },
   "outputs": [],
   "source": [
    "import gradio as gr"
   ]
  },
  {
   "cell_type": "code",
   "execution_count": 10,
   "id": "4da4dd04",
   "metadata": {
    "ExecuteTime": {
     "end_time": "2022-03-22T11:01:17.079769Z",
     "start_time": "2022-03-22T11:01:17.066648Z"
    }
   },
   "outputs": [],
   "source": [
    "def correct(sentence):\n",
    "    res = gf.correct(sentence) # Gramformer correct\n",
    "    return res[0] # Return first value in res array"
   ]
  },
  {
   "cell_type": "code",
   "execution_count": 11,
   "id": "d5931ba1",
   "metadata": {
    "ExecuteTime": {
     "end_time": "2022-03-22T11:01:17.654447Z",
     "start_time": "2022-03-22T11:01:17.113662Z"
    }
   },
   "outputs": [],
   "source": [
    "app_inputs = gr.inputs.Textbox(lines=2, placeholder=\"Enter sentence here...\")"
   ]
  },
  {
   "cell_type": "code",
   "execution_count": 12,
   "id": "3789db56",
   "metadata": {
    "ExecuteTime": {
     "end_time": "2022-03-22T11:01:21.742738Z",
     "start_time": "2022-03-22T11:01:17.715875Z"
    }
   },
   "outputs": [],
   "source": [
    "interface = gr.Interface(fn=correct, \n",
    "                        inputs=app_inputs,\n",
    "                         outputs='text', \n",
    "                        title='Sup, I\\'m Gramformer')"
   ]
  },
  {
   "cell_type": "code",
   "execution_count": 13,
   "id": "daec3a62",
   "metadata": {
    "ExecuteTime": {
     "end_time": "2022-03-22T11:01:37.539477Z",
     "start_time": "2022-03-22T11:01:35.204303Z"
    }
   },
   "outputs": [
    {
     "name": "stdout",
     "output_type": "stream",
     "text": [
      "Running on local URL:  http://127.0.0.1:7860/\n",
      "\n",
      "To create a public link, set `share=True` in `launch()`.\n"
     ]
    },
    {
     "data": {
      "text/html": [
       "\n",
       "        <iframe\n",
       "            width=\"900\"\n",
       "            height=\"500\"\n",
       "            src=\"http://127.0.0.1:7860/\"\n",
       "            frameborder=\"0\"\n",
       "            allowfullscreen\n",
       "        ></iframe>\n",
       "        "
      ],
      "text/plain": [
       "<IPython.lib.display.IFrame at 0x267d0afb160>"
      ]
     },
     "metadata": {},
     "output_type": "display_data"
    },
    {
     "data": {
      "text/plain": [
       "(<fastapi.applications.FastAPI at 0x267d03452b0>,\n",
       " 'http://127.0.0.1:7860/',\n",
       " None)"
      ]
     },
     "execution_count": 13,
     "metadata": {},
     "output_type": "execute_result"
    }
   ],
   "source": [
    "interface.launch()"
   ]
  }
 ],
 "metadata": {
  "kernelspec": {
   "display_name": "Python 3",
   "language": "python",
   "name": "python3"
  },
  "language_info": {
   "codemirror_mode": {
    "name": "ipython",
    "version": 3
   },
   "file_extension": ".py",
   "mimetype": "text/x-python",
   "name": "python",
   "nbconvert_exporter": "python",
   "pygments_lexer": "ipython3",
   "version": "3.8.8"
  },
  "toc": {
   "base_numbering": 1,
   "nav_menu": {},
   "number_sections": true,
   "sideBar": true,
   "skip_h1_title": false,
   "title_cell": "Table of Contents",
   "title_sidebar": "Contents",
   "toc_cell": false,
   "toc_position": {},
   "toc_section_display": true,
   "toc_window_display": false
  },
  "varInspector": {
   "cols": {
    "lenName": 16,
    "lenType": 16,
    "lenVar": 40
   },
   "kernels_config": {
    "python": {
     "delete_cmd_postfix": "",
     "delete_cmd_prefix": "del ",
     "library": "var_list.py",
     "varRefreshCmd": "print(var_dic_list())"
    },
    "r": {
     "delete_cmd_postfix": ") ",
     "delete_cmd_prefix": "rm(",
     "library": "var_list.r",
     "varRefreshCmd": "cat(var_dic_list()) "
    }
   },
   "types_to_exclude": [
    "module",
    "function",
    "builtin_function_or_method",
    "instance",
    "_Feature"
   ],
   "window_display": false
  }
 },
 "nbformat": 4,
 "nbformat_minor": 5
}
