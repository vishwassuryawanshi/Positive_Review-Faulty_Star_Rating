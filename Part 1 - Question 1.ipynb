{
 "cells": [
  {
   "cell_type": "markdown",
   "id": "28018bb8",
   "metadata": {},
   "source": [
    "Write a regex to extract all the numbers with orange color background from the below text in italics.\n",
    "\n",
    "{\"orders\":[{\"id\":1},{\"id\":2},{\"id\":3},{\"id\":4},{\"id\":5},{\"id\":6},{\"id\":7},{\"id\":8},{\"id\":9},{\"id\":10},{\"id\":11},{\"id\":648},{\"id\":649},{\"id\":650},{\"id\":651},{\"id\":652},{\"id\":653}],\"errors\":[{\"code\":3,\"message\":\"[PHP Warning #2] count(): Parameter must be an array or an object that implements Countable (153)\"}]}"
   ]
  },
  {
   "cell_type": "code",
   "execution_count": 37,
   "id": "16e126a0",
   "metadata": {
    "ExecuteTime": {
     "end_time": "2022-03-17T09:36:45.490695Z",
     "start_time": "2022-03-17T09:36:45.483709Z"
    }
   },
   "outputs": [],
   "source": [
    "import re"
   ]
  },
  {
   "cell_type": "code",
   "execution_count": 106,
   "id": "3909dc45",
   "metadata": {
    "ExecuteTime": {
     "end_time": "2022-03-17T10:13:15.897532Z",
     "start_time": "2022-03-17T10:13:15.890550Z"
    }
   },
   "outputs": [],
   "source": [
    "my_dict = {\"orders\":[{\"id\":1},{\"id\":2},{\"id\":3},{\"id\":4},{\"id\":5},{\"id\":6},{\"id\":7},{\"id\":8},{\"id\":9},{\"id\":10},{\"id\":11},{\"id\":648},{\"id\":649},{\"id\":650},{\"id\":651},{\"id\":652},{\"id\":653}],\"errors\":[{\"code\":3,\"message\":\"[PHP Warning #2] count(): Parameter must be an array or an object that implements Countable (153)\"}]}"
   ]
  },
  {
   "cell_type": "code",
   "execution_count": 107,
   "id": "32086790",
   "metadata": {
    "ExecuteTime": {
     "end_time": "2022-03-17T10:13:16.874634Z",
     "start_time": "2022-03-17T10:13:16.858713Z"
    }
   },
   "outputs": [
    {
     "name": "stdout",
     "output_type": "stream",
     "text": [
      "<class 'dict'>\n"
     ]
    }
   ],
   "source": [
    "print(type(my_dict))"
   ]
  },
  {
   "cell_type": "code",
   "execution_count": 108,
   "id": "7e3fb1d9",
   "metadata": {
    "ExecuteTime": {
     "end_time": "2022-03-17T10:13:17.606673Z",
     "start_time": "2022-03-17T10:13:17.590741Z"
    }
   },
   "outputs": [],
   "source": [
    "import json"
   ]
  },
  {
   "cell_type": "code",
   "execution_count": 109,
   "id": "4838a19c",
   "metadata": {
    "ExecuteTime": {
     "end_time": "2022-03-17T10:13:18.160204Z",
     "start_time": "2022-03-17T10:13:18.148238Z"
    }
   },
   "outputs": [
    {
     "name": "stdout",
     "output_type": "stream",
     "text": [
      "{\"orders\": [{\"id\": 1}, {\"id\": 2}, {\"id\": 3}, {\"id\": 4}, {\"id\": 5}, {\"id\": 6}, {\"id\": 7}, {\"id\": 8}, {\"id\": 9}, {\"id\": 10}, {\"id\": 11}, {\"id\": 648}, {\"id\": 649}, {\"id\": 650}, {\"id\": 651}, {\"id\": 652}, {\"id\": 653}], \"errors\": [{\"code\": 3, \"message\": \"[PHP Warning #2] count(): Parameter must be an array or an object that implements Countable (153)\"}]}\n"
     ]
    }
   ],
   "source": [
    "s = json.dumps(my_dict)\n",
    "print(s)"
   ]
  },
  {
   "cell_type": "code",
   "execution_count": 110,
   "id": "7daaf96a",
   "metadata": {
    "ExecuteTime": {
     "end_time": "2022-03-17T10:13:18.790532Z",
     "start_time": "2022-03-17T10:13:18.772579Z"
    }
   },
   "outputs": [
    {
     "name": "stdout",
     "output_type": "stream",
     "text": [
      "<class 'str'>\n"
     ]
    }
   ],
   "source": [
    "print(type(s))"
   ]
  },
  {
   "cell_type": "code",
   "execution_count": 111,
   "id": "7c10b4d7",
   "metadata": {
    "ExecuteTime": {
     "end_time": "2022-03-17T10:13:19.434992Z",
     "start_time": "2022-03-17T10:13:19.420031Z"
    }
   },
   "outputs": [
    {
     "name": "stdout",
     "output_type": "stream",
     "text": [
      "{\"orders\": [{\"id\": 1}, {\"id\": 2}, {\"id\": 3}, {\"id\": 4}, {\"id\": 5}, {\"id\": 6}, {\"id\": 7}, {\"id\": 8}, {\"id\": 9}, {\"id\": 10}, {\"id\": 11}, {\"id\": 648}, {\"id\": 649}, {\"id\": 650}, {\"id\": 651}, {\"id\": 652}, {\"id\": 653}], \"errors\": [{\"code\": 3, \"message\": \"[PHP Warning #2] count(): Parameter must be an array or an object that implements Countable (153)\"}]}\n"
     ]
    }
   ],
   "source": [
    "d = json.loads(s)\n",
    "print(s)"
   ]
  },
  {
   "cell_type": "code",
   "execution_count": 112,
   "id": "12d06b99",
   "metadata": {
    "ExecuteTime": {
     "end_time": "2022-03-17T10:13:20.196888Z",
     "start_time": "2022-03-17T10:13:20.189879Z"
    }
   },
   "outputs": [
    {
     "name": "stdout",
     "output_type": "stream",
     "text": [
      "<class 'str'>\n"
     ]
    }
   ],
   "source": [
    "print(type(s))"
   ]
  },
  {
   "cell_type": "code",
   "execution_count": 114,
   "id": "c67dcef0",
   "metadata": {
    "ExecuteTime": {
     "end_time": "2022-03-17T10:13:32.749802Z",
     "start_time": "2022-03-17T10:13:32.739830Z"
    }
   },
   "outputs": [
    {
     "data": {
      "text/plain": [
       "[' 1',\n",
       " ' 2',\n",
       " ' 3',\n",
       " ' 4',\n",
       " ' 5',\n",
       " ' 6',\n",
       " ' 7',\n",
       " ' 8',\n",
       " ' 9',\n",
       " ' 10',\n",
       " ' 11',\n",
       " ' 648',\n",
       " ' 649',\n",
       " ' 650',\n",
       " ' 651',\n",
       " ' 652',\n",
       " ' 653',\n",
       " ' 3']"
      ]
     },
     "execution_count": 114,
     "metadata": {},
     "output_type": "execute_result"
    }
   ],
   "source": [
    "re.findall(r\"\\s[0-9]+\", s)"
   ]
  }
 ],
 "metadata": {
  "kernelspec": {
   "display_name": "Python 3",
   "language": "python",
   "name": "python3"
  },
  "language_info": {
   "codemirror_mode": {
    "name": "ipython",
    "version": 3
   },
   "file_extension": ".py",
   "mimetype": "text/x-python",
   "name": "python",
   "nbconvert_exporter": "python",
   "pygments_lexer": "ipython3",
   "version": "3.8.8"
  },
  "toc": {
   "base_numbering": 1,
   "nav_menu": {},
   "number_sections": true,
   "sideBar": true,
   "skip_h1_title": false,
   "title_cell": "Table of Contents",
   "title_sidebar": "Contents",
   "toc_cell": false,
   "toc_position": {},
   "toc_section_display": true,
   "toc_window_display": false
  },
  "varInspector": {
   "cols": {
    "lenName": 16,
    "lenType": 16,
    "lenVar": 40
   },
   "kernels_config": {
    "python": {
     "delete_cmd_postfix": "",
     "delete_cmd_prefix": "del ",
     "library": "var_list.py",
     "varRefreshCmd": "print(var_dic_list())"
    },
    "r": {
     "delete_cmd_postfix": ") ",
     "delete_cmd_prefix": "rm(",
     "library": "var_list.r",
     "varRefreshCmd": "cat(var_dic_list()) "
    }
   },
   "types_to_exclude": [
    "module",
    "function",
    "builtin_function_or_method",
    "instance",
    "_Feature"
   ],
   "window_display": false
  }
 },
 "nbformat": 4,
 "nbformat_minor": 5
}
