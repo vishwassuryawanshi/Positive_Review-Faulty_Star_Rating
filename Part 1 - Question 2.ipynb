{
 "cells": [
  {
   "cell_type": "markdown",
   "id": "85cca1ca",
   "metadata": {},
   "source": [
    "Problem statement - There are times when a user writes Good, Nice App or any other positive text, in the review and gives 1-star rating. Your goal is to identify the reviews where the semantics of review text does not match rating. \n",
    "\n",
    "Your goal is to identify such ratings where review text is good, but rating is negative- so that the support team can point this to users. \n"
   ]
  },
  {
   "cell_type": "code",
   "execution_count": 1,
   "id": "6ec29af6",
   "metadata": {
    "ExecuteTime": {
     "end_time": "2022-03-18T04:38:29.087826Z",
     "start_time": "2022-03-18T04:38:01.572121Z"
    }
   },
   "outputs": [],
   "source": [
    "import numpy as np\n",
    "import pandas as pd"
   ]
  },
  {
   "cell_type": "code",
   "execution_count": 2,
   "id": "c733a8fc",
   "metadata": {
    "ExecuteTime": {
     "end_time": "2022-03-18T04:38:30.250606Z",
     "start_time": "2022-03-18T04:38:29.087826Z"
    }
   },
   "outputs": [
    {
     "data": {
      "text/html": [
       "<div>\n",
       "<style scoped>\n",
       "    .dataframe tbody tr th:only-of-type {\n",
       "        vertical-align: middle;\n",
       "    }\n",
       "\n",
       "    .dataframe tbody tr th {\n",
       "        vertical-align: top;\n",
       "    }\n",
       "\n",
       "    .dataframe thead th {\n",
       "        text-align: right;\n",
       "    }\n",
       "</style>\n",
       "<table border=\"1\" class=\"dataframe\">\n",
       "  <thead>\n",
       "    <tr style=\"text-align: right;\">\n",
       "      <th></th>\n",
       "      <th>ID</th>\n",
       "      <th>Review URL</th>\n",
       "      <th>Text</th>\n",
       "      <th>Star</th>\n",
       "      <th>Thumbs Up</th>\n",
       "      <th>User Name</th>\n",
       "      <th>Developer Reply</th>\n",
       "      <th>Version</th>\n",
       "      <th>Review Date</th>\n",
       "      <th>App ID</th>\n",
       "    </tr>\n",
       "  </thead>\n",
       "  <tbody>\n",
       "    <tr>\n",
       "      <th>0</th>\n",
       "      <td>3886</td>\n",
       "      <td>https://play.google.com/store/apps/details?id=...</td>\n",
       "      <td>This is very helpfull aap.</td>\n",
       "      <td>5</td>\n",
       "      <td>0</td>\n",
       "      <td>INDIAN Knowledge</td>\n",
       "      <td>NaN</td>\n",
       "      <td>83.0.4103.106</td>\n",
       "      <td>2020-12-19</td>\n",
       "      <td>com.android.chrome</td>\n",
       "    </tr>\n",
       "    <tr>\n",
       "      <th>1</th>\n",
       "      <td>3887</td>\n",
       "      <td>https://play.google.com/store/apps/details?id=...</td>\n",
       "      <td>Good</td>\n",
       "      <td>3</td>\n",
       "      <td>2</td>\n",
       "      <td>Ijeoma Happiness</td>\n",
       "      <td>NaN</td>\n",
       "      <td>85.0.4183.127</td>\n",
       "      <td>2020-12-19</td>\n",
       "      <td>com.android.chrome</td>\n",
       "    </tr>\n",
       "    <tr>\n",
       "      <th>2</th>\n",
       "      <td>3888</td>\n",
       "      <td>https://play.google.com/store/apps/details?id=...</td>\n",
       "      <td>Not able to update. Neither able to uninstall.</td>\n",
       "      <td>1</td>\n",
       "      <td>0</td>\n",
       "      <td>Priti D BtCFs-29</td>\n",
       "      <td>NaN</td>\n",
       "      <td>85.0.4183.127</td>\n",
       "      <td>2020-12-19</td>\n",
       "      <td>com.android.chrome</td>\n",
       "    </tr>\n",
       "    <tr>\n",
       "      <th>3</th>\n",
       "      <td>3889</td>\n",
       "      <td>https://play.google.com/store/apps/details?id=...</td>\n",
       "      <td>Nice app</td>\n",
       "      <td>4</td>\n",
       "      <td>0</td>\n",
       "      <td>Ajeet Raja</td>\n",
       "      <td>NaN</td>\n",
       "      <td>77.0.3865.116</td>\n",
       "      <td>2020-12-19</td>\n",
       "      <td>com.android.chrome</td>\n",
       "    </tr>\n",
       "    <tr>\n",
       "      <th>4</th>\n",
       "      <td>3890</td>\n",
       "      <td>https://play.google.com/store/apps/details?id=...</td>\n",
       "      <td>Many unwanted ads</td>\n",
       "      <td>1</td>\n",
       "      <td>0</td>\n",
       "      <td>Rams Mp</td>\n",
       "      <td>NaN</td>\n",
       "      <td>87.0.4280.66</td>\n",
       "      <td>2020-12-19</td>\n",
       "      <td>com.android.chrome</td>\n",
       "    </tr>\n",
       "  </tbody>\n",
       "</table>\n",
       "</div>"
      ],
      "text/plain": [
       "     ID                                         Review URL  \\\n",
       "0  3886  https://play.google.com/store/apps/details?id=...   \n",
       "1  3887  https://play.google.com/store/apps/details?id=...   \n",
       "2  3888  https://play.google.com/store/apps/details?id=...   \n",
       "3  3889  https://play.google.com/store/apps/details?id=...   \n",
       "4  3890  https://play.google.com/store/apps/details?id=...   \n",
       "\n",
       "                                             Text  Star  Thumbs Up  \\\n",
       "0                      This is very helpfull aap.     5          0   \n",
       "1                                            Good     3          2   \n",
       "2  Not able to update. Neither able to uninstall.     1          0   \n",
       "3                                        Nice app     4          0   \n",
       "4                               Many unwanted ads     1          0   \n",
       "\n",
       "          User Name Developer Reply        Version Review Date  \\\n",
       "0  INDIAN Knowledge             NaN  83.0.4103.106  2020-12-19   \n",
       "1  Ijeoma Happiness             NaN  85.0.4183.127  2020-12-19   \n",
       "2  Priti D BtCFs-29             NaN  85.0.4183.127  2020-12-19   \n",
       "3        Ajeet Raja             NaN  77.0.3865.116  2020-12-19   \n",
       "4           Rams Mp             NaN   87.0.4280.66  2020-12-19   \n",
       "\n",
       "               App ID  \n",
       "0  com.android.chrome  \n",
       "1  com.android.chrome  \n",
       "2  com.android.chrome  \n",
       "3  com.android.chrome  \n",
       "4  com.android.chrome  "
      ]
     },
     "execution_count": 2,
     "metadata": {},
     "output_type": "execute_result"
    }
   ],
   "source": [
    "chrome_reviews = pd.read_csv(\"chrome_reviews.csv\")\n",
    "chrome_reviews.head()"
   ]
  },
  {
   "cell_type": "code",
   "execution_count": 3,
   "id": "988b70ce",
   "metadata": {
    "ExecuteTime": {
     "end_time": "2022-03-18T04:38:30.271967Z",
     "start_time": "2022-03-18T04:38:30.252600Z"
    }
   },
   "outputs": [
    {
     "data": {
      "text/plain": [
       "(7204, 10)"
      ]
     },
     "execution_count": 3,
     "metadata": {},
     "output_type": "execute_result"
    }
   ],
   "source": [
    "chrome_reviews.shape"
   ]
  },
  {
   "cell_type": "code",
   "execution_count": 4,
   "id": "b64900d7",
   "metadata": {
    "ExecuteTime": {
     "end_time": "2022-03-18T04:38:30.646888Z",
     "start_time": "2022-03-18T04:38:30.273962Z"
    }
   },
   "outputs": [
    {
     "name": "stdout",
     "output_type": "stream",
     "text": [
      "<class 'pandas.core.frame.DataFrame'>\n",
      "RangeIndex: 7204 entries, 0 to 7203\n",
      "Data columns (total 10 columns):\n",
      " #   Column           Non-Null Count  Dtype \n",
      "---  ------           --------------  ----- \n",
      " 0   ID               7204 non-null   int64 \n",
      " 1   Review URL       7204 non-null   object\n",
      " 2   Text             7203 non-null   object\n",
      " 3   Star             7204 non-null   int64 \n",
      " 4   Thumbs Up        7204 non-null   int64 \n",
      " 5   User Name        7204 non-null   object\n",
      " 6   Developer Reply  95 non-null     object\n",
      " 7   Version          7119 non-null   object\n",
      " 8   Review Date      7204 non-null   object\n",
      " 9   App ID           7204 non-null   object\n",
      "dtypes: int64(3), object(7)\n",
      "memory usage: 562.9+ KB\n"
     ]
    }
   ],
   "source": [
    "chrome_reviews.info()"
   ]
  },
  {
   "cell_type": "code",
   "execution_count": 5,
   "id": "a73f0c09",
   "metadata": {
    "ExecuteTime": {
     "end_time": "2022-03-18T04:38:30.709477Z",
     "start_time": "2022-03-18T04:38:30.648883Z"
    }
   },
   "outputs": [
    {
     "data": {
      "text/html": [
       "<div>\n",
       "<style scoped>\n",
       "    .dataframe tbody tr th:only-of-type {\n",
       "        vertical-align: middle;\n",
       "    }\n",
       "\n",
       "    .dataframe tbody tr th {\n",
       "        vertical-align: top;\n",
       "    }\n",
       "\n",
       "    .dataframe thead th {\n",
       "        text-align: right;\n",
       "    }\n",
       "</style>\n",
       "<table border=\"1\" class=\"dataframe\">\n",
       "  <thead>\n",
       "    <tr style=\"text-align: right;\">\n",
       "      <th></th>\n",
       "      <th>Text</th>\n",
       "      <th>Star</th>\n",
       "    </tr>\n",
       "  </thead>\n",
       "  <tbody>\n",
       "    <tr>\n",
       "      <th>0</th>\n",
       "      <td>This is very helpfull aap.</td>\n",
       "      <td>5</td>\n",
       "    </tr>\n",
       "    <tr>\n",
       "      <th>1</th>\n",
       "      <td>Good</td>\n",
       "      <td>3</td>\n",
       "    </tr>\n",
       "    <tr>\n",
       "      <th>2</th>\n",
       "      <td>Not able to update. Neither able to uninstall.</td>\n",
       "      <td>1</td>\n",
       "    </tr>\n",
       "    <tr>\n",
       "      <th>3</th>\n",
       "      <td>Nice app</td>\n",
       "      <td>4</td>\n",
       "    </tr>\n",
       "    <tr>\n",
       "      <th>4</th>\n",
       "      <td>Many unwanted ads</td>\n",
       "      <td>1</td>\n",
       "    </tr>\n",
       "  </tbody>\n",
       "</table>\n",
       "</div>"
      ],
      "text/plain": [
       "                                             Text  Star\n",
       "0                      This is very helpfull aap.     5\n",
       "1                                            Good     3\n",
       "2  Not able to update. Neither able to uninstall.     1\n",
       "3                                        Nice app     4\n",
       "4                               Many unwanted ads     1"
      ]
     },
     "execution_count": 5,
     "metadata": {},
     "output_type": "execute_result"
    }
   ],
   "source": [
    "df = chrome_reviews[[\"Text\",\"Star\"]]\n",
    "df.head()"
   ]
  },
  {
   "cell_type": "code",
   "execution_count": 6,
   "id": "9cadda95",
   "metadata": {
    "ExecuteTime": {
     "end_time": "2022-03-18T04:38:30.865818Z",
     "start_time": "2022-03-18T04:38:30.710281Z"
    }
   },
   "outputs": [
    {
     "data": {
      "text/plain": [
       "Text    1\n",
       "Star    0\n",
       "dtype: int64"
      ]
     },
     "execution_count": 6,
     "metadata": {},
     "output_type": "execute_result"
    }
   ],
   "source": [
    "df.isnull().sum()"
   ]
  },
  {
   "cell_type": "code",
   "execution_count": 7,
   "id": "5ea15f67",
   "metadata": {
    "ExecuteTime": {
     "end_time": "2022-03-18T04:38:31.496714Z",
     "start_time": "2022-03-18T04:38:30.868661Z"
    }
   },
   "outputs": [
    {
     "data": {
      "text/html": [
       "<div>\n",
       "<style scoped>\n",
       "    .dataframe tbody tr th:only-of-type {\n",
       "        vertical-align: middle;\n",
       "    }\n",
       "\n",
       "    .dataframe tbody tr th {\n",
       "        vertical-align: top;\n",
       "    }\n",
       "\n",
       "    .dataframe thead th {\n",
       "        text-align: right;\n",
       "    }\n",
       "</style>\n",
       "<table border=\"1\" class=\"dataframe\">\n",
       "  <thead>\n",
       "    <tr style=\"text-align: right;\">\n",
       "      <th></th>\n",
       "      <th>Text</th>\n",
       "      <th>Star</th>\n",
       "    </tr>\n",
       "  </thead>\n",
       "  <tbody>\n",
       "    <tr>\n",
       "      <th>0</th>\n",
       "      <td>This is very helpfull aap.</td>\n",
       "      <td>5</td>\n",
       "    </tr>\n",
       "    <tr>\n",
       "      <th>1</th>\n",
       "      <td>Good</td>\n",
       "      <td>3</td>\n",
       "    </tr>\n",
       "    <tr>\n",
       "      <th>2</th>\n",
       "      <td>Not able to update. Neither able to uninstall.</td>\n",
       "      <td>1</td>\n",
       "    </tr>\n",
       "    <tr>\n",
       "      <th>3</th>\n",
       "      <td>Nice app</td>\n",
       "      <td>4</td>\n",
       "    </tr>\n",
       "    <tr>\n",
       "      <th>4</th>\n",
       "      <td>Many unwanted ads</td>\n",
       "      <td>1</td>\n",
       "    </tr>\n",
       "    <tr>\n",
       "      <th>...</th>\n",
       "      <td>...</td>\n",
       "      <td>...</td>\n",
       "    </tr>\n",
       "    <tr>\n",
       "      <th>7199</th>\n",
       "      <td>Bagusss..</td>\n",
       "      <td>5</td>\n",
       "    </tr>\n",
       "    <tr>\n",
       "      <th>7200</th>\n",
       "      <td>Bad version 😔</td>\n",
       "      <td>1</td>\n",
       "    </tr>\n",
       "    <tr>\n",
       "      <th>7201</th>\n",
       "      <td>One thing that I have to say I can't spelled t...</td>\n",
       "      <td>5</td>\n",
       "    </tr>\n",
       "    <tr>\n",
       "      <th>7202</th>\n",
       "      <td>Excellent</td>\n",
       "      <td>5</td>\n",
       "    </tr>\n",
       "    <tr>\n",
       "      <th>7203</th>\n",
       "      <td>After update it lag and always slow same goes ...</td>\n",
       "      <td>1</td>\n",
       "    </tr>\n",
       "  </tbody>\n",
       "</table>\n",
       "<p>7203 rows × 2 columns</p>\n",
       "</div>"
      ],
      "text/plain": [
       "                                                   Text  Star\n",
       "0                            This is very helpfull aap.     5\n",
       "1                                                  Good     3\n",
       "2        Not able to update. Neither able to uninstall.     1\n",
       "3                                              Nice app     4\n",
       "4                                     Many unwanted ads     1\n",
       "...                                                 ...   ...\n",
       "7199                                          Bagusss..     5\n",
       "7200                                      Bad version 😔     1\n",
       "7201  One thing that I have to say I can't spelled t...     5\n",
       "7202                                          Excellent     5\n",
       "7203  After update it lag and always slow same goes ...     1\n",
       "\n",
       "[7203 rows x 2 columns]"
      ]
     },
     "execution_count": 7,
     "metadata": {},
     "output_type": "execute_result"
    }
   ],
   "source": [
    "df.dropna()"
   ]
  },
  {
   "cell_type": "code",
   "execution_count": 8,
   "id": "2f554a59",
   "metadata": {
    "ExecuteTime": {
     "end_time": "2022-03-18T04:39:25.149216Z",
     "start_time": "2022-03-18T04:38:31.502032Z"
    }
   },
   "outputs": [
    {
     "name": "stderr",
     "output_type": "stream",
     "text": [
      "[nltk_data] Downloading package stopwords to\n",
      "[nltk_data]     C:\\Users\\Lenovo\\AppData\\Roaming\\nltk_data...\n",
      "[nltk_data]   Package stopwords is already up-to-date!\n"
     ]
    }
   ],
   "source": [
    "import nltk\n",
    "import re\n",
    "\n",
    "nltk.download('stopwords')\n",
    "from nltk.stem.porter import PorterStemmer\n",
    "from nltk.corpus import stopwords"
   ]
  },
  {
   "cell_type": "code",
   "execution_count": 9,
   "id": "8de6a2c3",
   "metadata": {
    "ExecuteTime": {
     "end_time": "2022-03-18T04:39:25.178985Z",
     "start_time": "2022-03-18T04:39:25.160034Z"
    }
   },
   "outputs": [],
   "source": [
    "port = PorterStemmer()\n",
    "def text_cleaner (text):\n",
    "    cleaned= re.sub('[^a-zA-Z]', \" \", text) \n",
    "    cleaned= cleaned.lower()\n",
    "    cleaned = cleaned.split()\n",
    "    cleaned= [port.stem (word) for word in cleaned if word not in stopwords.words(\"english\")]\n",
    "    cleaned= ' '.join(cleaned)\n",
    "    return cleaned"
   ]
  },
  {
   "cell_type": "code",
   "execution_count": 10,
   "id": "76ed3b17",
   "metadata": {
    "ExecuteTime": {
     "end_time": "2022-03-18T04:39:47.332857Z",
     "start_time": "2022-03-18T04:39:25.183972Z"
    }
   },
   "outputs": [
    {
     "name": "stderr",
     "output_type": "stream",
     "text": [
      "<ipython-input-10-11912fe6278b>:1: SettingWithCopyWarning: \n",
      "A value is trying to be set on a copy of a slice from a DataFrame.\n",
      "Try using .loc[row_indexer,col_indexer] = value instead\n",
      "\n",
      "See the caveats in the documentation: https://pandas.pydata.org/pandas-docs/stable/user_guide/indexing.html#returning-a-view-versus-a-copy\n",
      "  df[\"Cleaned_Text\"] = df[\"Text\"].apply(lambda x: text_cleaner(str(x)))\n"
     ]
    },
    {
     "data": {
      "text/html": [
       "<div>\n",
       "<style scoped>\n",
       "    .dataframe tbody tr th:only-of-type {\n",
       "        vertical-align: middle;\n",
       "    }\n",
       "\n",
       "    .dataframe tbody tr th {\n",
       "        vertical-align: top;\n",
       "    }\n",
       "\n",
       "    .dataframe thead th {\n",
       "        text-align: right;\n",
       "    }\n",
       "</style>\n",
       "<table border=\"1\" class=\"dataframe\">\n",
       "  <thead>\n",
       "    <tr style=\"text-align: right;\">\n",
       "      <th></th>\n",
       "      <th>Text</th>\n",
       "      <th>Star</th>\n",
       "      <th>Cleaned_Text</th>\n",
       "    </tr>\n",
       "  </thead>\n",
       "  <tbody>\n",
       "    <tr>\n",
       "      <th>0</th>\n",
       "      <td>This is very helpfull aap.</td>\n",
       "      <td>5</td>\n",
       "      <td>helpful aap</td>\n",
       "    </tr>\n",
       "    <tr>\n",
       "      <th>1</th>\n",
       "      <td>Good</td>\n",
       "      <td>3</td>\n",
       "      <td>good</td>\n",
       "    </tr>\n",
       "    <tr>\n",
       "      <th>2</th>\n",
       "      <td>Not able to update. Neither able to uninstall.</td>\n",
       "      <td>1</td>\n",
       "      <td>abl updat neither abl uninstal</td>\n",
       "    </tr>\n",
       "    <tr>\n",
       "      <th>3</th>\n",
       "      <td>Nice app</td>\n",
       "      <td>4</td>\n",
       "      <td>nice app</td>\n",
       "    </tr>\n",
       "    <tr>\n",
       "      <th>4</th>\n",
       "      <td>Many unwanted ads</td>\n",
       "      <td>1</td>\n",
       "      <td>mani unwant ad</td>\n",
       "    </tr>\n",
       "  </tbody>\n",
       "</table>\n",
       "</div>"
      ],
      "text/plain": [
       "                                             Text  Star  \\\n",
       "0                      This is very helpfull aap.     5   \n",
       "1                                            Good     3   \n",
       "2  Not able to update. Neither able to uninstall.     1   \n",
       "3                                        Nice app     4   \n",
       "4                               Many unwanted ads     1   \n",
       "\n",
       "                     Cleaned_Text  \n",
       "0                     helpful aap  \n",
       "1                            good  \n",
       "2  abl updat neither abl uninstal  \n",
       "3                        nice app  \n",
       "4                  mani unwant ad  "
      ]
     },
     "execution_count": 10,
     "metadata": {},
     "output_type": "execute_result"
    }
   ],
   "source": [
    "df[\"Cleaned_Text\"] = df[\"Text\"].apply(lambda x: text_cleaner(str(x)))\n",
    "df.head()"
   ]
  },
  {
   "cell_type": "code",
   "execution_count": 11,
   "id": "39f3c7f0",
   "metadata": {
    "ExecuteTime": {
     "end_time": "2022-03-18T04:39:47.397498Z",
     "start_time": "2022-03-18T04:39:47.340833Z"
    }
   },
   "outputs": [
    {
     "name": "stderr",
     "output_type": "stream",
     "text": [
      "<ipython-input-11-a34f6b3ca929>:1: SettingWithCopyWarning: \n",
      "A value is trying to be set on a copy of a slice from a DataFrame.\n",
      "Try using .loc[row_indexer,col_indexer] = value instead\n",
      "\n",
      "See the caveats in the documentation: https://pandas.pydata.org/pandas-docs/stable/user_guide/indexing.html#returning-a-view-versus-a-copy\n",
      "  df[\"Length\"] = df[\"Text\"].apply(lambda x:len(str(x)))\n"
     ]
    },
    {
     "data": {
      "text/html": [
       "<div>\n",
       "<style scoped>\n",
       "    .dataframe tbody tr th:only-of-type {\n",
       "        vertical-align: middle;\n",
       "    }\n",
       "\n",
       "    .dataframe tbody tr th {\n",
       "        vertical-align: top;\n",
       "    }\n",
       "\n",
       "    .dataframe thead th {\n",
       "        text-align: right;\n",
       "    }\n",
       "</style>\n",
       "<table border=\"1\" class=\"dataframe\">\n",
       "  <thead>\n",
       "    <tr style=\"text-align: right;\">\n",
       "      <th></th>\n",
       "      <th>Text</th>\n",
       "      <th>Star</th>\n",
       "      <th>Cleaned_Text</th>\n",
       "      <th>Length</th>\n",
       "    </tr>\n",
       "  </thead>\n",
       "  <tbody>\n",
       "    <tr>\n",
       "      <th>0</th>\n",
       "      <td>This is very helpfull aap.</td>\n",
       "      <td>5</td>\n",
       "      <td>helpful aap</td>\n",
       "      <td>26</td>\n",
       "    </tr>\n",
       "    <tr>\n",
       "      <th>1</th>\n",
       "      <td>Good</td>\n",
       "      <td>3</td>\n",
       "      <td>good</td>\n",
       "      <td>4</td>\n",
       "    </tr>\n",
       "    <tr>\n",
       "      <th>2</th>\n",
       "      <td>Not able to update. Neither able to uninstall.</td>\n",
       "      <td>1</td>\n",
       "      <td>abl updat neither abl uninstal</td>\n",
       "      <td>46</td>\n",
       "    </tr>\n",
       "    <tr>\n",
       "      <th>3</th>\n",
       "      <td>Nice app</td>\n",
       "      <td>4</td>\n",
       "      <td>nice app</td>\n",
       "      <td>8</td>\n",
       "    </tr>\n",
       "    <tr>\n",
       "      <th>4</th>\n",
       "      <td>Many unwanted ads</td>\n",
       "      <td>1</td>\n",
       "      <td>mani unwant ad</td>\n",
       "      <td>17</td>\n",
       "    </tr>\n",
       "  </tbody>\n",
       "</table>\n",
       "</div>"
      ],
      "text/plain": [
       "                                             Text  Star  \\\n",
       "0                      This is very helpfull aap.     5   \n",
       "1                                            Good     3   \n",
       "2  Not able to update. Neither able to uninstall.     1   \n",
       "3                                        Nice app     4   \n",
       "4                               Many unwanted ads     1   \n",
       "\n",
       "                     Cleaned_Text  Length  \n",
       "0                     helpful aap      26  \n",
       "1                            good       4  \n",
       "2  abl updat neither abl uninstal      46  \n",
       "3                        nice app       8  \n",
       "4                  mani unwant ad      17  "
      ]
     },
     "execution_count": 11,
     "metadata": {},
     "output_type": "execute_result"
    }
   ],
   "source": [
    "df[\"Length\"] = df[\"Text\"].apply(lambda x:len(str(x)))\n",
    "df.head()"
   ]
  },
  {
   "cell_type": "code",
   "execution_count": 12,
   "id": "e11effca",
   "metadata": {
    "ExecuteTime": {
     "end_time": "2022-03-18T04:39:55.023290Z",
     "start_time": "2022-03-18T04:39:47.402484Z"
    }
   },
   "outputs": [],
   "source": [
    "from textblob import TextBlob\n",
    "import matplotlib.pyplot as plt\n",
    "from nltk.sentiment.vader import SentimentIntensityAnalyzer\n",
    "import nltk\n",
    "\n",
    "def sentiment_vader(text, sid):\n",
    "    ss = sid.polarity_scores(text)\n",
    "    ss.pop('compound')\n",
    "    return max(ss, key=ss.get)\n",
    "\n",
    "def sentiment_textblob(text):\n",
    "        x = TextBlob(text).sentiment.polarity\n",
    "        \n",
    "        if x<0:\n",
    "            return 'neg'\n",
    "        elif x==0:\n",
    "            return 'neu'\n",
    "        else:\n",
    "            return 'pos'\n",
    "\n",
    "def plot_sentiment_barchart(text, method='TextBlob'):\n",
    "    if method == 'TextBlob':\n",
    "        sentiment = text.map(lambda x: sentiment_textblob(x))\n",
    "    elif method == 'Vader':\n",
    "        nltk.download('vader_lexicon')\n",
    "        sid = SentimentIntensityAnalyzer()\n",
    "        sentiment = text.map(lambda x: sentiment_vader(x, sid=sid))\n",
    "    else:\n",
    "        raise ValueError('Textblob or Vader')\n",
    "    \n",
    "    plt.bar(sentiment.value_counts().index,\n",
    "            sentiment.value_counts())"
   ]
  },
  {
   "cell_type": "code",
   "execution_count": 13,
   "id": "8cdfce41",
   "metadata": {
    "ExecuteTime": {
     "end_time": "2022-03-18T04:39:57.246960Z",
     "start_time": "2022-03-18T04:39:55.023290Z"
    }
   },
   "outputs": [
    {
     "name": "stderr",
     "output_type": "stream",
     "text": [
      "[nltk_data] Downloading package vader_lexicon to\n",
      "[nltk_data]     C:\\Users\\Lenovo\\AppData\\Roaming\\nltk_data...\n",
      "[nltk_data]   Package vader_lexicon is already up-to-date!\n"
     ]
    },
    {
     "data": {
      "image/png": "[encoded data removed]",
      "text/plain": [
       "<Figure size 432x288 with 1 Axes>"
      ]
     },
     "metadata": {
      "needs_background": "light"
     },
     "output_type": "display_data"
    }
   ],
   "source": [
    "plot_sentiment_barchart(df['Cleaned_Text'], method='Vader')"
   ]
  },
  {
   "cell_type": "code",
   "execution_count": 14,
   "id": "81d6b321",
   "metadata": {
    "ExecuteTime": {
     "end_time": "2022-03-18T04:39:59.973636Z",
     "start_time": "2022-03-18T04:39:57.249952Z"
    }
   },
   "outputs": [
    {
     "data": {
      "image/png": "[encoded data removed]",
      "text/plain": [
       "<Figure size 432x288 with 1 Axes>"
      ]
     },
     "metadata": {
      "needs_background": "light"
     },
     "output_type": "display_data"
    }
   ],
   "source": [
    "plot_sentiment_barchart(df['Cleaned_Text'], method='TextBlob')"
   ]
  },
  {
   "cell_type": "code",
   "execution_count": 15,
   "id": "7e833bfa",
   "metadata": {
    "ExecuteTime": {
     "end_time": "2022-03-18T04:39:59.989594Z",
     "start_time": "2022-03-18T04:39:59.977625Z"
    }
   },
   "outputs": [
    {
     "name": "stderr",
     "output_type": "stream",
     "text": [
      "[nltk_data] Downloading package vader_lexicon to\n",
      "[nltk_data]     C:\\Users\\Lenovo\\AppData\\Roaming\\nltk_data...\n",
      "[nltk_data]   Package vader_lexicon is already up-to-date!\n"
     ]
    }
   ],
   "source": [
    "nltk.download('vader_lexicon')\n",
    "from nltk.sentiment.vader import SentimentIntensityAnalyzer"
   ]
  },
  {
   "cell_type": "code",
   "execution_count": 16,
   "id": "8311a380",
   "metadata": {
    "ExecuteTime": {
     "end_time": "2022-03-18T04:40:00.204994Z",
     "start_time": "2022-03-18T04:39:59.994582Z"
    }
   },
   "outputs": [],
   "source": [
    "sid = SentimentIntensityAnalyzer()"
   ]
  },
  {
   "cell_type": "code",
   "execution_count": 17,
   "id": "d27af62c",
   "metadata": {
    "ExecuteTime": {
     "end_time": "2022-03-18T04:40:01.543205Z",
     "start_time": "2022-03-18T04:40:00.208840Z"
    }
   },
   "outputs": [
    {
     "name": "stderr",
     "output_type": "stream",
     "text": [
      "<ipython-input-17-d927215f6368>:1: SettingWithCopyWarning: \n",
      "A value is trying to be set on a copy of a slice from a DataFrame.\n",
      "Try using .loc[row_indexer,col_indexer] = value instead\n",
      "\n",
      "See the caveats in the documentation: https://pandas.pydata.org/pandas-docs/stable/user_guide/indexing.html#returning-a-view-versus-a-copy\n",
      "  df[\"Vader_Score\"] = df[\"Cleaned_Text\"].apply(lambda review:sid.polarity_scores(review))\n"
     ]
    },
    {
     "data": {
      "text/html": [
       "<div>\n",
       "<style scoped>\n",
       "    .dataframe tbody tr th:only-of-type {\n",
       "        vertical-align: middle;\n",
       "    }\n",
       "\n",
       "    .dataframe tbody tr th {\n",
       "        vertical-align: top;\n",
       "    }\n",
       "\n",
       "    .dataframe thead th {\n",
       "        text-align: right;\n",
       "    }\n",
       "</style>\n",
       "<table border=\"1\" class=\"dataframe\">\n",
       "  <thead>\n",
       "    <tr style=\"text-align: right;\">\n",
       "      <th></th>\n",
       "      <th>Text</th>\n",
       "      <th>Star</th>\n",
       "      <th>Cleaned_Text</th>\n",
       "      <th>Length</th>\n",
       "      <th>Vader_Score</th>\n",
       "    </tr>\n",
       "  </thead>\n",
       "  <tbody>\n",
       "    <tr>\n",
       "      <th>0</th>\n",
       "      <td>This is very helpfull aap.</td>\n",
       "      <td>5</td>\n",
       "      <td>helpful aap</td>\n",
       "      <td>26</td>\n",
       "      <td>{'neg': 0.0, 'neu': 0.263, 'pos': 0.737, 'comp...</td>\n",
       "    </tr>\n",
       "    <tr>\n",
       "      <th>1</th>\n",
       "      <td>Good</td>\n",
       "      <td>3</td>\n",
       "      <td>good</td>\n",
       "      <td>4</td>\n",
       "      <td>{'neg': 0.0, 'neu': 0.0, 'pos': 1.0, 'compound...</td>\n",
       "    </tr>\n",
       "    <tr>\n",
       "      <th>2</th>\n",
       "      <td>Not able to update. Neither able to uninstall.</td>\n",
       "      <td>1</td>\n",
       "      <td>abl updat neither abl uninstal</td>\n",
       "      <td>46</td>\n",
       "      <td>{'neg': 0.0, 'neu': 1.0, 'pos': 0.0, 'compound...</td>\n",
       "    </tr>\n",
       "    <tr>\n",
       "      <th>3</th>\n",
       "      <td>Nice app</td>\n",
       "      <td>4</td>\n",
       "      <td>nice app</td>\n",
       "      <td>8</td>\n",
       "      <td>{'neg': 0.0, 'neu': 0.263, 'pos': 0.737, 'comp...</td>\n",
       "    </tr>\n",
       "    <tr>\n",
       "      <th>4</th>\n",
       "      <td>Many unwanted ads</td>\n",
       "      <td>1</td>\n",
       "      <td>mani unwant ad</td>\n",
       "      <td>17</td>\n",
       "      <td>{'neg': 0.0, 'neu': 1.0, 'pos': 0.0, 'compound...</td>\n",
       "    </tr>\n",
       "  </tbody>\n",
       "</table>\n",
       "</div>"
      ],
      "text/plain": [
       "                                             Text  Star  \\\n",
       "0                      This is very helpfull aap.     5   \n",
       "1                                            Good     3   \n",
       "2  Not able to update. Neither able to uninstall.     1   \n",
       "3                                        Nice app     4   \n",
       "4                               Many unwanted ads     1   \n",
       "\n",
       "                     Cleaned_Text  Length  \\\n",
       "0                     helpful aap      26   \n",
       "1                            good       4   \n",
       "2  abl updat neither abl uninstal      46   \n",
       "3                        nice app       8   \n",
       "4                  mani unwant ad      17   \n",
       "\n",
       "                                         Vader_Score  \n",
       "0  {'neg': 0.0, 'neu': 0.263, 'pos': 0.737, 'comp...  \n",
       "1  {'neg': 0.0, 'neu': 0.0, 'pos': 1.0, 'compound...  \n",
       "2  {'neg': 0.0, 'neu': 1.0, 'pos': 0.0, 'compound...  \n",
       "3  {'neg': 0.0, 'neu': 0.263, 'pos': 0.737, 'comp...  \n",
       "4  {'neg': 0.0, 'neu': 1.0, 'pos': 0.0, 'compound...  "
      ]
     },
     "execution_count": 17,
     "metadata": {},
     "output_type": "execute_result"
    }
   ],
   "source": [
    "df[\"Vader_Score\"] = df[\"Cleaned_Text\"].apply(lambda review:sid.polarity_scores(review))\n",
    "df.head()"
   ]
  },
  {
   "cell_type": "code",
   "execution_count": 18,
   "id": "070f93b1",
   "metadata": {
    "ExecuteTime": {
     "end_time": "2022-03-18T04:40:01.589090Z",
     "start_time": "2022-03-18T04:40:01.547192Z"
    }
   },
   "outputs": [
    {
     "name": "stderr",
     "output_type": "stream",
     "text": [
      "<ipython-input-18-ac70cf4e3ef6>:1: SettingWithCopyWarning: \n",
      "A value is trying to be set on a copy of a slice from a DataFrame.\n",
      "Try using .loc[row_indexer,col_indexer] = value instead\n",
      "\n",
      "See the caveats in the documentation: https://pandas.pydata.org/pandas-docs/stable/user_guide/indexing.html#returning-a-view-versus-a-copy\n",
      "  df[\"Vader_Compound_Score\"]  = df['Vader_Score'].apply(lambda score_dict: score_dict['compound'])\n"
     ]
    },
    {
     "data": {
      "text/html": [
       "<div>\n",
       "<style scoped>\n",
       "    .dataframe tbody tr th:only-of-type {\n",
       "        vertical-align: middle;\n",
       "    }\n",
       "\n",
       "    .dataframe tbody tr th {\n",
       "        vertical-align: top;\n",
       "    }\n",
       "\n",
       "    .dataframe thead th {\n",
       "        text-align: right;\n",
       "    }\n",
       "</style>\n",
       "<table border=\"1\" class=\"dataframe\">\n",
       "  <thead>\n",
       "    <tr style=\"text-align: right;\">\n",
       "      <th></th>\n",
       "      <th>Text</th>\n",
       "      <th>Star</th>\n",
       "      <th>Cleaned_Text</th>\n",
       "      <th>Length</th>\n",
       "      <th>Vader_Score</th>\n",
       "      <th>Vader_Compound_Score</th>\n",
       "    </tr>\n",
       "  </thead>\n",
       "  <tbody>\n",
       "    <tr>\n",
       "      <th>0</th>\n",
       "      <td>This is very helpfull aap.</td>\n",
       "      <td>5</td>\n",
       "      <td>helpful aap</td>\n",
       "      <td>26</td>\n",
       "      <td>{'neg': 0.0, 'neu': 0.263, 'pos': 0.737, 'comp...</td>\n",
       "      <td>0.4215</td>\n",
       "    </tr>\n",
       "    <tr>\n",
       "      <th>1</th>\n",
       "      <td>Good</td>\n",
       "      <td>3</td>\n",
       "      <td>good</td>\n",
       "      <td>4</td>\n",
       "      <td>{'neg': 0.0, 'neu': 0.0, 'pos': 1.0, 'compound...</td>\n",
       "      <td>0.4404</td>\n",
       "    </tr>\n",
       "    <tr>\n",
       "      <th>2</th>\n",
       "      <td>Not able to update. Neither able to uninstall.</td>\n",
       "      <td>1</td>\n",
       "      <td>abl updat neither abl uninstal</td>\n",
       "      <td>46</td>\n",
       "      <td>{'neg': 0.0, 'neu': 1.0, 'pos': 0.0, 'compound...</td>\n",
       "      <td>0.0000</td>\n",
       "    </tr>\n",
       "    <tr>\n",
       "      <th>3</th>\n",
       "      <td>Nice app</td>\n",
       "      <td>4</td>\n",
       "      <td>nice app</td>\n",
       "      <td>8</td>\n",
       "      <td>{'neg': 0.0, 'neu': 0.263, 'pos': 0.737, 'comp...</td>\n",
       "      <td>0.4215</td>\n",
       "    </tr>\n",
       "    <tr>\n",
       "      <th>4</th>\n",
       "      <td>Many unwanted ads</td>\n",
       "      <td>1</td>\n",
       "      <td>mani unwant ad</td>\n",
       "      <td>17</td>\n",
       "      <td>{'neg': 0.0, 'neu': 1.0, 'pos': 0.0, 'compound...</td>\n",
       "      <td>0.0000</td>\n",
       "    </tr>\n",
       "  </tbody>\n",
       "</table>\n",
       "</div>"
      ],
      "text/plain": [
       "                                             Text  Star  \\\n",
       "0                      This is very helpfull aap.     5   \n",
       "1                                            Good     3   \n",
       "2  Not able to update. Neither able to uninstall.     1   \n",
       "3                                        Nice app     4   \n",
       "4                               Many unwanted ads     1   \n",
       "\n",
       "                     Cleaned_Text  Length  \\\n",
       "0                     helpful aap      26   \n",
       "1                            good       4   \n",
       "2  abl updat neither abl uninstal      46   \n",
       "3                        nice app       8   \n",
       "4                  mani unwant ad      17   \n",
       "\n",
       "                                         Vader_Score  Vader_Compound_Score  \n",
       "0  {'neg': 0.0, 'neu': 0.263, 'pos': 0.737, 'comp...                0.4215  \n",
       "1  {'neg': 0.0, 'neu': 0.0, 'pos': 1.0, 'compound...                0.4404  \n",
       "2  {'neg': 0.0, 'neu': 1.0, 'pos': 0.0, 'compound...                0.0000  \n",
       "3  {'neg': 0.0, 'neu': 0.263, 'pos': 0.737, 'comp...                0.4215  \n",
       "4  {'neg': 0.0, 'neu': 1.0, 'pos': 0.0, 'compound...                0.0000  "
      ]
     },
     "execution_count": 18,
     "metadata": {},
     "output_type": "execute_result"
    }
   ],
   "source": [
    "df[\"Vader_Compound_Score\"]  = df['Vader_Score'].apply(lambda score_dict: score_dict['compound'])\n",
    "df.head()"
   ]
  },
  {
   "cell_type": "code",
   "execution_count": 19,
   "id": "494f2889",
   "metadata": {
    "ExecuteTime": {
     "end_time": "2022-03-18T04:40:01.807705Z",
     "start_time": "2022-03-18T04:40:01.593078Z"
    }
   },
   "outputs": [
    {
     "name": "stderr",
     "output_type": "stream",
     "text": [
      "<ipython-input-19-d0436b3b8a1a>:1: SettingWithCopyWarning: \n",
      "A value is trying to be set on a copy of a slice from a DataFrame.\n",
      "Try using .loc[row_indexer,col_indexer] = value instead\n",
      "\n",
      "See the caveats in the documentation: https://pandas.pydata.org/pandas-docs/stable/user_guide/indexing.html#returning-a-view-versus-a-copy\n",
      "  df[\"Result\"] = df[\"Vader_Compound_Score\"].apply(lambda c: 'positive' if c > 0 else ('negative' if c < 0 else 'neutral'))\n"
     ]
    },
    {
     "data": {
      "text/html": [
       "<div>\n",
       "<style scoped>\n",
       "    .dataframe tbody tr th:only-of-type {\n",
       "        vertical-align: middle;\n",
       "    }\n",
       "\n",
       "    .dataframe tbody tr th {\n",
       "        vertical-align: top;\n",
       "    }\n",
       "\n",
       "    .dataframe thead th {\n",
       "        text-align: right;\n",
       "    }\n",
       "</style>\n",
       "<table border=\"1\" class=\"dataframe\">\n",
       "  <thead>\n",
       "    <tr style=\"text-align: right;\">\n",
       "      <th></th>\n",
       "      <th>Text</th>\n",
       "      <th>Star</th>\n",
       "      <th>Cleaned_Text</th>\n",
       "      <th>Length</th>\n",
       "      <th>Vader_Score</th>\n",
       "      <th>Vader_Compound_Score</th>\n",
       "      <th>Result</th>\n",
       "    </tr>\n",
       "  </thead>\n",
       "  <tbody>\n",
       "    <tr>\n",
       "      <th>7199</th>\n",
       "      <td>Bagusss..</td>\n",
       "      <td>5</td>\n",
       "      <td>bagusss</td>\n",
       "      <td>9</td>\n",
       "      <td>{'neg': 0.0, 'neu': 1.0, 'pos': 0.0, 'compound...</td>\n",
       "      <td>0.0000</td>\n",
       "      <td>neutral</td>\n",
       "    </tr>\n",
       "    <tr>\n",
       "      <th>7200</th>\n",
       "      <td>Bad version 😔</td>\n",
       "      <td>1</td>\n",
       "      <td>bad version</td>\n",
       "      <td>13</td>\n",
       "      <td>{'neg': 0.778, 'neu': 0.222, 'pos': 0.0, 'comp...</td>\n",
       "      <td>-0.5423</td>\n",
       "      <td>negative</td>\n",
       "    </tr>\n",
       "    <tr>\n",
       "      <th>7201</th>\n",
       "      <td>One thing that I have to say I can't spelled t...</td>\n",
       "      <td>5</td>\n",
       "      <td>one thing say spell good problem tri spell best</td>\n",
       "      <td>105</td>\n",
       "      <td>{'neg': 0.171, 'neu': 0.38, 'pos': 0.449, 'com...</td>\n",
       "      <td>0.6597</td>\n",
       "      <td>positive</td>\n",
       "    </tr>\n",
       "    <tr>\n",
       "      <th>7202</th>\n",
       "      <td>Excellent</td>\n",
       "      <td>5</td>\n",
       "      <td>excel</td>\n",
       "      <td>9</td>\n",
       "      <td>{'neg': 0.0, 'neu': 0.0, 'pos': 1.0, 'compound...</td>\n",
       "      <td>0.4588</td>\n",
       "      <td>positive</td>\n",
       "    </tr>\n",
       "    <tr>\n",
       "      <th>7203</th>\n",
       "      <td>After update it lag and always slow same goes ...</td>\n",
       "      <td>1</td>\n",
       "      <td>updat lag alway slow goe googlee want work</td>\n",
       "      <td>97</td>\n",
       "      <td>{'neg': 0.247, 'neu': 0.619, 'pos': 0.134, 'co...</td>\n",
       "      <td>-0.2732</td>\n",
       "      <td>negative</td>\n",
       "    </tr>\n",
       "  </tbody>\n",
       "</table>\n",
       "</div>"
      ],
      "text/plain": [
       "                                                   Text  Star  \\\n",
       "7199                                          Bagusss..     5   \n",
       "7200                                      Bad version 😔     1   \n",
       "7201  One thing that I have to say I can't spelled t...     5   \n",
       "7202                                          Excellent     5   \n",
       "7203  After update it lag and always slow same goes ...     1   \n",
       "\n",
       "                                         Cleaned_Text  Length  \\\n",
       "7199                                          bagusss       9   \n",
       "7200                                      bad version      13   \n",
       "7201  one thing say spell good problem tri spell best     105   \n",
       "7202                                            excel       9   \n",
       "7203       updat lag alway slow goe googlee want work      97   \n",
       "\n",
       "                                            Vader_Score  Vader_Compound_Score  \\\n",
       "7199  {'neg': 0.0, 'neu': 1.0, 'pos': 0.0, 'compound...                0.0000   \n",
       "7200  {'neg': 0.778, 'neu': 0.222, 'pos': 0.0, 'comp...               -0.5423   \n",
       "7201  {'neg': 0.171, 'neu': 0.38, 'pos': 0.449, 'com...                0.6597   \n",
       "7202  {'neg': 0.0, 'neu': 0.0, 'pos': 1.0, 'compound...                0.4588   \n",
       "7203  {'neg': 0.247, 'neu': 0.619, 'pos': 0.134, 'co...               -0.2732   \n",
       "\n",
       "        Result  \n",
       "7199   neutral  \n",
       "7200  negative  \n",
       "7201  positive  \n",
       "7202  positive  \n",
       "7203  negative  "
      ]
     },
     "execution_count": 19,
     "metadata": {},
     "output_type": "execute_result"
    }
   ],
   "source": [
    "df[\"Result\"] = df[\"Vader_Compound_Score\"].apply(lambda c: 'positive' if c > 0 else ('negative' if c < 0 else 'neutral'))\n",
    "df.tail()"
   ]
  },
  {
   "cell_type": "code",
   "execution_count": 20,
   "id": "646fb8f9",
   "metadata": {
    "ExecuteTime": {
     "end_time": "2022-03-18T04:40:01.947484Z",
     "start_time": "2022-03-18T04:40:01.811699Z"
    }
   },
   "outputs": [
    {
     "data": {
      "text/plain": [
       "positive    3683\n",
       "neutral     2812\n",
       "negative     709\n",
       "Name: Result, dtype: int64"
      ]
     },
     "execution_count": 20,
     "metadata": {},
     "output_type": "execute_result"
    }
   ],
   "source": [
    "df.Result.value_counts()"
   ]
  },
  {
   "cell_type": "code",
   "execution_count": 21,
   "id": "ca2c43e9",
   "metadata": {
    "ExecuteTime": {
     "end_time": "2022-03-18T04:40:02.703186Z",
     "start_time": "2022-03-18T04:40:01.950838Z"
    }
   },
   "outputs": [
    {
     "data": {
      "image/png": "[encoded data removed]",
      "text/plain": [
       "<Figure size 576x432 with 1 Axes>"
      ]
     },
     "metadata": {},
     "output_type": "display_data"
    }
   ],
   "source": [
    "plt.figure(figsize=(8,6))\n",
    "plt.pie(df[\"Result\"].value_counts(), labels = df[\"Result\"].value_counts().index, autopct=\"%.0f%%\")\n",
    "plt.show()"
   ]
  },
  {
   "cell_type": "code",
   "execution_count": 22,
   "id": "4823f05c",
   "metadata": {
    "ExecuteTime": {
     "end_time": "2022-03-18T04:40:02.795420Z",
     "start_time": "2022-03-18T04:40:02.707173Z"
    }
   },
   "outputs": [
    {
     "data": {
      "text/html": [
       "<div>\n",
       "<style scoped>\n",
       "    .dataframe tbody tr th:only-of-type {\n",
       "        vertical-align: middle;\n",
       "    }\n",
       "\n",
       "    .dataframe tbody tr th {\n",
       "        vertical-align: top;\n",
       "    }\n",
       "\n",
       "    .dataframe thead th {\n",
       "        text-align: right;\n",
       "    }\n",
       "</style>\n",
       "<table border=\"1\" class=\"dataframe\">\n",
       "  <thead>\n",
       "    <tr style=\"text-align: right;\">\n",
       "      <th></th>\n",
       "      <th>Text</th>\n",
       "      <th>Star</th>\n",
       "      <th>Cleaned_Text</th>\n",
       "      <th>Length</th>\n",
       "      <th>Vader_Score</th>\n",
       "      <th>Vader_Compound_Score</th>\n",
       "      <th>Result</th>\n",
       "    </tr>\n",
       "  </thead>\n",
       "  <tbody>\n",
       "    <tr>\n",
       "      <th>7184</th>\n",
       "      <td>Good</td>\n",
       "      <td>5</td>\n",
       "      <td>good</td>\n",
       "      <td>4</td>\n",
       "      <td>{'neg': 0.0, 'neu': 0.0, 'pos': 1.0, 'compound...</td>\n",
       "      <td>0.4404</td>\n",
       "      <td>positive</td>\n",
       "    </tr>\n",
       "    <tr>\n",
       "      <th>7190</th>\n",
       "      <td>Good</td>\n",
       "      <td>5</td>\n",
       "      <td>good</td>\n",
       "      <td>4</td>\n",
       "      <td>{'neg': 0.0, 'neu': 0.0, 'pos': 1.0, 'compound...</td>\n",
       "      <td>0.4404</td>\n",
       "      <td>positive</td>\n",
       "    </tr>\n",
       "    <tr>\n",
       "      <th>7195</th>\n",
       "      <td>Chrome is good, I trust this update will make ...</td>\n",
       "      <td>1</td>\n",
       "      <td>chrome good trust updat make better</td>\n",
       "      <td>56</td>\n",
       "      <td>{'neg': 0.0, 'neu': 0.248, 'pos': 0.752, 'comp...</td>\n",
       "      <td>0.8442</td>\n",
       "      <td>positive</td>\n",
       "    </tr>\n",
       "    <tr>\n",
       "      <th>7201</th>\n",
       "      <td>One thing that I have to say I can't spelled t...</td>\n",
       "      <td>5</td>\n",
       "      <td>one thing say spell good problem tri spell best</td>\n",
       "      <td>105</td>\n",
       "      <td>{'neg': 0.171, 'neu': 0.38, 'pos': 0.449, 'com...</td>\n",
       "      <td>0.6597</td>\n",
       "      <td>positive</td>\n",
       "    </tr>\n",
       "    <tr>\n",
       "      <th>7202</th>\n",
       "      <td>Excellent</td>\n",
       "      <td>5</td>\n",
       "      <td>excel</td>\n",
       "      <td>9</td>\n",
       "      <td>{'neg': 0.0, 'neu': 0.0, 'pos': 1.0, 'compound...</td>\n",
       "      <td>0.4588</td>\n",
       "      <td>positive</td>\n",
       "    </tr>\n",
       "  </tbody>\n",
       "</table>\n",
       "</div>"
      ],
      "text/plain": [
       "                                                   Text  Star  \\\n",
       "7184                                               Good     5   \n",
       "7190                                               Good     5   \n",
       "7195  Chrome is good, I trust this update will make ...     1   \n",
       "7201  One thing that I have to say I can't spelled t...     5   \n",
       "7202                                          Excellent     5   \n",
       "\n",
       "                                         Cleaned_Text  Length  \\\n",
       "7184                                             good       4   \n",
       "7190                                             good       4   \n",
       "7195              chrome good trust updat make better      56   \n",
       "7201  one thing say spell good problem tri spell best     105   \n",
       "7202                                            excel       9   \n",
       "\n",
       "                                            Vader_Score  Vader_Compound_Score  \\\n",
       "7184  {'neg': 0.0, 'neu': 0.0, 'pos': 1.0, 'compound...                0.4404   \n",
       "7190  {'neg': 0.0, 'neu': 0.0, 'pos': 1.0, 'compound...                0.4404   \n",
       "7195  {'neg': 0.0, 'neu': 0.248, 'pos': 0.752, 'comp...                0.8442   \n",
       "7201  {'neg': 0.171, 'neu': 0.38, 'pos': 0.449, 'com...                0.6597   \n",
       "7202  {'neg': 0.0, 'neu': 0.0, 'pos': 1.0, 'compound...                0.4588   \n",
       "\n",
       "        Result  \n",
       "7184  positive  \n",
       "7190  positive  \n",
       "7195  positive  \n",
       "7201  positive  \n",
       "7202  positive  "
      ]
     },
     "execution_count": 22,
     "metadata": {},
     "output_type": "execute_result"
    }
   ],
   "source": [
    "df_positive = df[(df.Result == \"positive\")]\n",
    "df_positive.tail()"
   ]
  },
  {
   "cell_type": "code",
   "execution_count": 28,
   "id": "ed9e40ff",
   "metadata": {
    "ExecuteTime": {
     "end_time": "2022-03-18T04:41:20.926995Z",
     "start_time": "2022-03-18T04:41:20.901055Z"
    }
   },
   "outputs": [
    {
     "data": {
      "text/html": [
       "<div>\n",
       "<style scoped>\n",
       "    .dataframe tbody tr th:only-of-type {\n",
       "        vertical-align: middle;\n",
       "    }\n",
       "\n",
       "    .dataframe tbody tr th {\n",
       "        vertical-align: top;\n",
       "    }\n",
       "\n",
       "    .dataframe thead th {\n",
       "        text-align: right;\n",
       "    }\n",
       "</style>\n",
       "<table border=\"1\" class=\"dataframe\">\n",
       "  <thead>\n",
       "    <tr style=\"text-align: right;\">\n",
       "      <th></th>\n",
       "      <th>Text</th>\n",
       "      <th>Star</th>\n",
       "      <th>Cleaned_Text</th>\n",
       "      <th>Length</th>\n",
       "      <th>Vader_Score</th>\n",
       "      <th>Vader_Compound_Score</th>\n",
       "      <th>Result</th>\n",
       "      <th>Opinion_Positive</th>\n",
       "    </tr>\n",
       "  </thead>\n",
       "  <tbody>\n",
       "    <tr>\n",
       "      <th>0</th>\n",
       "      <td>This is very helpfull aap.</td>\n",
       "      <td>5</td>\n",
       "      <td>helpful aap</td>\n",
       "      <td>26</td>\n",
       "      <td>{'neg': 0.0, 'neu': 0.263, 'pos': 0.737, 'comp...</td>\n",
       "      <td>0.4215</td>\n",
       "      <td>positive</td>\n",
       "      <td>No Attention Needed</td>\n",
       "    </tr>\n",
       "    <tr>\n",
       "      <th>1</th>\n",
       "      <td>Good</td>\n",
       "      <td>3</td>\n",
       "      <td>good</td>\n",
       "      <td>4</td>\n",
       "      <td>{'neg': 0.0, 'neu': 0.0, 'pos': 1.0, 'compound...</td>\n",
       "      <td>0.4404</td>\n",
       "      <td>positive</td>\n",
       "      <td>No Attention Needed</td>\n",
       "    </tr>\n",
       "    <tr>\n",
       "      <th>3</th>\n",
       "      <td>Nice app</td>\n",
       "      <td>4</td>\n",
       "      <td>nice app</td>\n",
       "      <td>8</td>\n",
       "      <td>{'neg': 0.0, 'neu': 0.263, 'pos': 0.737, 'comp...</td>\n",
       "      <td>0.4215</td>\n",
       "      <td>positive</td>\n",
       "      <td>No Attention Needed</td>\n",
       "    </tr>\n",
       "    <tr>\n",
       "      <th>5</th>\n",
       "      <td>This app good</td>\n",
       "      <td>4</td>\n",
       "      <td>app good</td>\n",
       "      <td>13</td>\n",
       "      <td>{'neg': 0.0, 'neu': 0.256, 'pos': 0.744, 'comp...</td>\n",
       "      <td>0.4404</td>\n",
       "      <td>positive</td>\n",
       "      <td>No Attention Needed</td>\n",
       "    </tr>\n",
       "    <tr>\n",
       "      <th>10</th>\n",
       "      <td>Good</td>\n",
       "      <td>5</td>\n",
       "      <td>good</td>\n",
       "      <td>4</td>\n",
       "      <td>{'neg': 0.0, 'neu': 0.0, 'pos': 1.0, 'compound...</td>\n",
       "      <td>0.4404</td>\n",
       "      <td>positive</td>\n",
       "      <td>No Attention Needed</td>\n",
       "    </tr>\n",
       "  </tbody>\n",
       "</table>\n",
       "</div>"
      ],
      "text/plain": [
       "                          Text  Star Cleaned_Text  Length  \\\n",
       "0   This is very helpfull aap.     5  helpful aap      26   \n",
       "1                         Good     3         good       4   \n",
       "3                     Nice app     4     nice app       8   \n",
       "5                This app good     4     app good      13   \n",
       "10                        Good     5         good       4   \n",
       "\n",
       "                                          Vader_Score  Vader_Compound_Score  \\\n",
       "0   {'neg': 0.0, 'neu': 0.263, 'pos': 0.737, 'comp...                0.4215   \n",
       "1   {'neg': 0.0, 'neu': 0.0, 'pos': 1.0, 'compound...                0.4404   \n",
       "3   {'neg': 0.0, 'neu': 0.263, 'pos': 0.737, 'comp...                0.4215   \n",
       "5   {'neg': 0.0, 'neu': 0.256, 'pos': 0.744, 'comp...                0.4404   \n",
       "10  {'neg': 0.0, 'neu': 0.0, 'pos': 1.0, 'compound...                0.4404   \n",
       "\n",
       "      Result     Opinion_Positive  \n",
       "0   positive  No Attention Needed  \n",
       "1   positive  No Attention Needed  \n",
       "3   positive  No Attention Needed  \n",
       "5   positive  No Attention Needed  \n",
       "10  positive  No Attention Needed  "
      ]
     },
     "execution_count": 28,
     "metadata": {},
     "output_type": "execute_result"
    }
   ],
   "source": [
    "df_positive.head()"
   ]
  },
  {
   "cell_type": "code",
   "execution_count": 29,
   "id": "341f56e9",
   "metadata": {
    "ExecuteTime": {
     "end_time": "2022-03-18T04:41:26.957633Z",
     "start_time": "2022-03-18T04:41:26.942670Z"
    }
   },
   "outputs": [],
   "source": [
    "Opinion_Positive = []\n",
    "for row in df_positive[\"Star\"] :\n",
    "    if row >= 3 :\n",
    "         Opinion_Positive.append(\"No Attention Needed\")\n",
    "    else :\n",
    "         Opinion_Positive.append(\"Attention Needed\")"
   ]
  },
  {
   "cell_type": "code",
   "execution_count": 30,
   "id": "5abcde8d",
   "metadata": {
    "ExecuteTime": {
     "end_time": "2022-03-18T04:41:28.168294Z",
     "start_time": "2022-03-18T04:41:28.152377Z"
    }
   },
   "outputs": [
    {
     "name": "stderr",
     "output_type": "stream",
     "text": [
      "<ipython-input-30-e0d0ede95e7e>:1: SettingWithCopyWarning: \n",
      "A value is trying to be set on a copy of a slice from a DataFrame.\n",
      "Try using .loc[row_indexer,col_indexer] = value instead\n",
      "\n",
      "See the caveats in the documentation: https://pandas.pydata.org/pandas-docs/stable/user_guide/indexing.html#returning-a-view-versus-a-copy\n",
      "  df_positive[\"Opinion_Positive\"] = Opinion_Positive\n"
     ]
    },
    {
     "data": {
      "text/html": [
       "<div>\n",
       "<style scoped>\n",
       "    .dataframe tbody tr th:only-of-type {\n",
       "        vertical-align: middle;\n",
       "    }\n",
       "\n",
       "    .dataframe tbody tr th {\n",
       "        vertical-align: top;\n",
       "    }\n",
       "\n",
       "    .dataframe thead th {\n",
       "        text-align: right;\n",
       "    }\n",
       "</style>\n",
       "<table border=\"1\" class=\"dataframe\">\n",
       "  <thead>\n",
       "    <tr style=\"text-align: right;\">\n",
       "      <th></th>\n",
       "      <th>Text</th>\n",
       "      <th>Star</th>\n",
       "      <th>Cleaned_Text</th>\n",
       "      <th>Length</th>\n",
       "      <th>Vader_Score</th>\n",
       "      <th>Vader_Compound_Score</th>\n",
       "      <th>Result</th>\n",
       "      <th>Opinion_Positive</th>\n",
       "    </tr>\n",
       "  </thead>\n",
       "  <tbody>\n",
       "    <tr>\n",
       "      <th>0</th>\n",
       "      <td>This is very helpfull aap.</td>\n",
       "      <td>5</td>\n",
       "      <td>helpful aap</td>\n",
       "      <td>26</td>\n",
       "      <td>{'neg': 0.0, 'neu': 0.263, 'pos': 0.737, 'comp...</td>\n",
       "      <td>0.4215</td>\n",
       "      <td>positive</td>\n",
       "      <td>No Attention Needed</td>\n",
       "    </tr>\n",
       "    <tr>\n",
       "      <th>1</th>\n",
       "      <td>Good</td>\n",
       "      <td>3</td>\n",
       "      <td>good</td>\n",
       "      <td>4</td>\n",
       "      <td>{'neg': 0.0, 'neu': 0.0, 'pos': 1.0, 'compound...</td>\n",
       "      <td>0.4404</td>\n",
       "      <td>positive</td>\n",
       "      <td>No Attention Needed</td>\n",
       "    </tr>\n",
       "    <tr>\n",
       "      <th>3</th>\n",
       "      <td>Nice app</td>\n",
       "      <td>4</td>\n",
       "      <td>nice app</td>\n",
       "      <td>8</td>\n",
       "      <td>{'neg': 0.0, 'neu': 0.263, 'pos': 0.737, 'comp...</td>\n",
       "      <td>0.4215</td>\n",
       "      <td>positive</td>\n",
       "      <td>No Attention Needed</td>\n",
       "    </tr>\n",
       "    <tr>\n",
       "      <th>5</th>\n",
       "      <td>This app good</td>\n",
       "      <td>4</td>\n",
       "      <td>app good</td>\n",
       "      <td>13</td>\n",
       "      <td>{'neg': 0.0, 'neu': 0.256, 'pos': 0.744, 'comp...</td>\n",
       "      <td>0.4404</td>\n",
       "      <td>positive</td>\n",
       "      <td>No Attention Needed</td>\n",
       "    </tr>\n",
       "    <tr>\n",
       "      <th>10</th>\n",
       "      <td>Good</td>\n",
       "      <td>5</td>\n",
       "      <td>good</td>\n",
       "      <td>4</td>\n",
       "      <td>{'neg': 0.0, 'neu': 0.0, 'pos': 1.0, 'compound...</td>\n",
       "      <td>0.4404</td>\n",
       "      <td>positive</td>\n",
       "      <td>No Attention Needed</td>\n",
       "    </tr>\n",
       "  </tbody>\n",
       "</table>\n",
       "</div>"
      ],
      "text/plain": [
       "                          Text  Star Cleaned_Text  Length  \\\n",
       "0   This is very helpfull aap.     5  helpful aap      26   \n",
       "1                         Good     3         good       4   \n",
       "3                     Nice app     4     nice app       8   \n",
       "5                This app good     4     app good      13   \n",
       "10                        Good     5         good       4   \n",
       "\n",
       "                                          Vader_Score  Vader_Compound_Score  \\\n",
       "0   {'neg': 0.0, 'neu': 0.263, 'pos': 0.737, 'comp...                0.4215   \n",
       "1   {'neg': 0.0, 'neu': 0.0, 'pos': 1.0, 'compound...                0.4404   \n",
       "3   {'neg': 0.0, 'neu': 0.263, 'pos': 0.737, 'comp...                0.4215   \n",
       "5   {'neg': 0.0, 'neu': 0.256, 'pos': 0.744, 'comp...                0.4404   \n",
       "10  {'neg': 0.0, 'neu': 0.0, 'pos': 1.0, 'compound...                0.4404   \n",
       "\n",
       "      Result     Opinion_Positive  \n",
       "0   positive  No Attention Needed  \n",
       "1   positive  No Attention Needed  \n",
       "3   positive  No Attention Needed  \n",
       "5   positive  No Attention Needed  \n",
       "10  positive  No Attention Needed  "
      ]
     },
     "execution_count": 30,
     "metadata": {},
     "output_type": "execute_result"
    }
   ],
   "source": [
    "df_positive[\"Opinion_Positive\"] = Opinion_Positive\n",
    "df_positive.head()"
   ]
  },
  {
   "cell_type": "code",
   "execution_count": 31,
   "id": "0d2e2220",
   "metadata": {
    "ExecuteTime": {
     "end_time": "2022-03-18T04:41:29.068248Z",
     "start_time": "2022-03-18T04:41:29.045308Z"
    }
   },
   "outputs": [
    {
     "data": {
      "text/plain": [
       "No Attention Needed    3192\n",
       "Attention Needed        491\n",
       "Name: Opinion_Positive, dtype: int64"
      ]
     },
     "execution_count": 31,
     "metadata": {},
     "output_type": "execute_result"
    }
   ],
   "source": [
    "df_positive.Opinion_Positive.value_counts()"
   ]
  },
  {
   "cell_type": "code",
   "execution_count": 32,
   "id": "710a97cf",
   "metadata": {
    "ExecuteTime": {
     "end_time": "2022-03-18T04:41:30.180203Z",
     "start_time": "2022-03-18T04:41:30.065416Z"
    }
   },
   "outputs": [
    {
     "data": {
      "image/png": "[encoded data removed]",
      "text/plain": [
       "<Figure size 576x432 with 1 Axes>"
      ]
     },
     "metadata": {},
     "output_type": "display_data"
    }
   ],
   "source": [
    "plt.figure(figsize=(8,6))\n",
    "plt.pie(df_positive[\"Opinion_Positive\"].value_counts(), labels = df_positive[\"Opinion_Positive\"].value_counts().index, autopct=\"%.0f%%\")\n",
    "plt.show()"
   ]
  },
  {
   "cell_type": "code",
   "execution_count": null,
   "id": "77194dd6",
   "metadata": {},
   "outputs": [],
   "source": []
  }
 ],
 "metadata": {
  "kernelspec": {
   "display_name": "Python 3",
   "language": "python",
   "name": "python3"
  },
  "language_info": {
   "codemirror_mode": {
    "name": "ipython",
    "version": 3
   },
   "file_extension": ".py",
   "mimetype": "text/x-python",
   "name": "python",
   "nbconvert_exporter": "python",
   "pygments_lexer": "ipython3",
   "version": "3.8.8"
  },
  "toc": {
   "base_numbering": 1,
   "nav_menu": {},
   "number_sections": true,
   "sideBar": true,
   "skip_h1_title": false,
   "title_cell": "Table of Contents",
   "title_sidebar": "Contents",
   "toc_cell": false,
   "toc_position": {},
   "toc_section_display": true,
   "toc_window_display": false
  },
  "varInspector": {
   "cols": {
    "lenName": 16,
    "lenType": 16,
    "lenVar": 40
   },
   "kernels_config": {
    "python": {
     "delete_cmd_postfix": "",
     "delete_cmd_prefix": "del ",
     "library": "var_list.py",
     "varRefreshCmd": "print(var_dic_list())"
    },
    "r": {
     "delete_cmd_postfix": ") ",
     "delete_cmd_prefix": "rm(",
     "library": "var_list.r",
     "varRefreshCmd": "cat(var_dic_list()) "
    }
   },
   "types_to_exclude": [
    "module",
    "function",
    "builtin_function_or_method",
    "instance",
    "_Feature"
   ],
   "window_display": false
  }
 },
 "nbformat": 4,
 "nbformat_minor": 5
}
